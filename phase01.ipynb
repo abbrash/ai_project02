{
 "cells": [
  {
   "attachments": {},
   "cell_type": "markdown",
   "metadata": {},
   "source": [
    "# Project 02 \n",
    "## Phase 01"
   ]
  },
  {
   "cell_type": "code",
   "execution_count": 1,
   "metadata": {},
   "outputs": [],
   "source": [
    "import numpy as np\n",
    "import pandas as pd\n",
    "from matplotlib import pyplot as plt\n",
    "from sklearn.model_selection import train_test_split \n",
    "import tensorflow as tf \n",
    "\n",
    "data_in = pd.read_csv('input.csv', header=None)         # Joint angles as input of forward kinematics equation.  \n",
    "data_out = pd.read_csv('output.csv', header=None)       # Pose of the end effector (angles and positions)"
   ]
  },
  {
   "cell_type": "code",
   "execution_count": 3,
   "metadata": {},
   "outputs": [],
   "source": [
    "# Unicodes of greek letters \n",
    "dic_letters = {'psi':\"\\u03C8\", \n",
    "               'theta':\"\\u03B8\",\n",
    "               'gamma':\"\\u03B3\", \n",
    "               'theta_1':\"\\u03B8\" + \"\\u2081\", \n",
    "               'theta_2':\"\\u03B8\" + \"\\u2082\",\n",
    "               'theta_3':\"\\u03B8\" + \"\\u2083\", \n",
    "               'theta_4':\"\\u03B8\" + \"\\u2084\", \n",
    "               'theta_5':\"\\u03B8\" + \"\\u2085\", \n",
    "               'theta_6':\"\\u03B8\" + \"\\u2086\",\n",
    "               'theta_7':\"\\u03B8\" + \"\\u2087\"\n",
    "              }\n",
    "\n",
    "data_in_col_names = [dic_letters['theta_1'],\n",
    "                     dic_letters['theta_2'],\n",
    "                     dic_letters['theta_3'],\n",
    "                     dic_letters['theta_4'],\n",
    "                     dic_letters['theta_5'],\n",
    "                     dic_letters['theta_6'],\n",
    "                     dic_letters['theta_7']\n",
    "                    ] \n",
    "\n",
    "data_in.columns = data_in_col_names\n",
    "\n",
    "data_out_col_names = ['x', \n",
    "                      'y', \n",
    "                      'z', \n",
    "                      dic_letters['psi'], \n",
    "                      dic_letters['theta'], \n",
    "                      dic_letters['gamma']\n",
    "                     ]\n",
    "\n",
    "data_out.columns = data_out_col_names\n",
    "\n",
    "features_num = data_out.shape[1]\n",
    "labels_num = data_in.shape[1]\n",
    "\n",
    "features = data_out\n",
    "labels = data_in\n",
    "\n",
    "features_train = train_test_split(features, test_size=0.4)\n",
    "features_valid_test = \n",
    "features_valid = \n",
    "features_test = \n",
    "\n",
    "labels_train = \n",
    "labels_valid = \n",
    "labels_test = "
   ]
  },
  {
   "cell_type": "code",
   "execution_count": 4,
   "metadata": {},
   "outputs": [],
   "source": [
    "model_mlp = tf.keras.Sequential(\n",
    "                                tf.keras.layers.Flatten(input_shape=[features_num, 1]),\n",
    "                                tf.keras.layers.Dense(128, activation=\"relu\"),\n",
    "                                tf.keras.layers.Dense(64, activation=\"relu\"),\n",
    "                                tf.keras.layers.Dense(32, activation=\"relu\"),\n",
    "                                tf.keras.layers.Dense(16, activation=\"relu\"),\n",
    "                                tf.keras.layers.Dense(labels_num, activation=\"sigmoid\"),\n",
    "                               )\n",
    "\n",
    "optimizer_mlp = tf.keras.optimizers.Adam(learning_rate=0.01)\n",
    "model_mlp.compile(\n",
    "                  loss='mse',\n",
    "                  optimizer=optimizer_mlp,\n",
    "                  metrics=[\"RootMeanSquaredError\"]\n",
    "                 )\n",
    "\n"
   ]
  }
 ],
 "metadata": {
  "kernelspec": {
   "display_name": "arash",
   "language": "python",
   "name": "python3"
  },
  "language_info": {
   "codemirror_mode": {
    "name": "ipython",
    "version": 3
   },
   "file_extension": ".py",
   "mimetype": "text/x-python",
   "name": "python",
   "nbconvert_exporter": "python",
   "pygments_lexer": "ipython3",
   "version": "3.9.0"
  },
  "orig_nbformat": 4
 },
 "nbformat": 4,
 "nbformat_minor": 2
}
